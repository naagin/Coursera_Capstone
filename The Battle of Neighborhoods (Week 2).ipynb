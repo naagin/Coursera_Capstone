{
    "cells": [
        {
            "metadata": {
                "collapsed": true
            },
            "cell_type": "markdown",
            "source": "# The Battle of Neighborhoods (Week2)"
        },
        {
            "metadata": {},
            "cell_type": "markdown",
            "source": "# Contents:"
        },
        {
            "metadata": {},
            "cell_type": "markdown",
            "source": "## Introduction - Business Problem and Interested Audience"
        },
        {
            "metadata": {},
            "cell_type": "markdown",
            "source": "Staying here, living here, dreaming it over here, makes one wonder how close is your next city to your home. Any city in India, there are many things that can be availed like the back of your hand. So, when comparing a city like New York or Toronto one would be very mindful on which city feels like home by not only on the availability of the home made products but also the cost of living matters the most. I would like to explore the option in New York Manhattan as it would be close to place of work and have many eateries too. So, in search of an apartment, the requirements would be a single bedroom with rent not more than 5000 dollars per month. And should have Indian restaurants and grocery shopping with amneties such as gym and community centres and location should be near subways. Challenges are meeting the price, location and amenties in and around the apartment in New York Manhattan(as mentioned above).People all around the world who want to move cities, will have similar preferences of their own ethnicity and culture. Here, we could target the Asian audience even though it's applicable similarly to all who want to join a new company or settle in the city for a long time or look out on a job of thier preference or even business."
        },
        {
            "metadata": {},
            "cell_type": "markdown",
            "source": "## Data description and Source "
        },
        {
            "metadata": {},
            "cell_type": "markdown",
            "source": "Using Foursquare and geopy data to pinpoint the venues for the above data requirement. This includes the subway station, apartment price, neighborhood etc. Converion of location information to latitude and longitude.\nUsing this, we can solve the questions pertaining to rental pricing options, distance from subway to apartment to place of work. Also, the neighborhood and other data related to amneties and community centres.\n\nSo, we would need lat, long, borough, neighborhood information as columns in the dataframe of New York. The subway related information s gathered from the wikipedia page for web scraping - https://en.wikipedia.org/wiki/List_of_New_York_City_Subway_stations_in_Manhattan\nA csv file is obtained to represent the data as mentioned above and the data is mapped.\n"
        },
        {
            "metadata": {},
            "cell_type": "markdown",
            "source": "## Methodology"
        },
        {
            "metadata": {},
            "cell_type": "markdown",
            "source": "Here, we answer the questions - Details of the apartment including price, address, single bedroom & venues\nSubway stations details & venues\nNeighbourhood details including the amenties & venues\\ Use Wikipedia to gather the details"
        },
        {
            "metadata": {},
            "cell_type": "code",
            "source": "import numpy as np \nimport time\nimport pandas as pd \npd.set_option('display.max_columns', None)\npd.set_option('display.max_rows', None)\n\nimport json \nimport requests \nfrom pandas.io.json import json_normalize \n\nfrom geopy.geocoders import Nominatim \n!conda install -c conda-forge folium=0.5.0 --yes\nimport folium ",
            "execution_count": 1,
            "outputs": [
                {
                    "output_type": "stream",
                    "text": "Solving environment: done\n\n## Package Plan ##\n\n  environment location: /opt/conda/envs/Python36\n\n  added / updated specs: \n    - folium=0.5.0\n\n\nThe following packages will be downloaded:\n\n    package                    |            build\n    ---------------------------|-----------------\n    vincent-0.4.4              |             py_1          28 KB  conda-forge\n    ca-certificates-2019.11.28 |       hecc5488_0         145 KB  conda-forge\n    certifi-2019.11.28         |           py36_0         149 KB  conda-forge\n    folium-0.5.0               |             py_0          45 KB  conda-forge\n    altair-4.0.0               |             py_0         606 KB  conda-forge\n    branca-0.3.1               |             py_0          25 KB  conda-forge\n    openssl-1.1.1d             |       h516909a_0         2.1 MB  conda-forge\n    ------------------------------------------------------------\n                                           Total:         3.1 MB\n\nThe following NEW packages will be INSTALLED:\n\n    altair:          4.0.0-py_0        conda-forge\n    branca:          0.3.1-py_0        conda-forge\n    folium:          0.5.0-py_0        conda-forge\n    vincent:         0.4.4-py_1        conda-forge\n\nThe following packages will be UPDATED:\n\n    ca-certificates: 2019.11.27-0                  --> 2019.11.28-hecc5488_0 conda-forge\n    certifi:         2019.11.28-py36_0             --> 2019.11.28-py36_0     conda-forge\n\nThe following packages will be DOWNGRADED:\n\n    openssl:         1.1.1d-h7b6447c_3             --> 1.1.1d-h516909a_0     conda-forge\n\n\nDownloading and Extracting Packages\nvincent-0.4.4        | 28 KB     | ##################################### | 100% \nca-certificates-2019 | 145 KB    | ##################################### | 100% \ncertifi-2019.11.28   | 149 KB    | ##################################### | 100% \nfolium-0.5.0         | 45 KB     | ##################################### | 100% \naltair-4.0.0         | 606 KB    | ##################################### | 100% \nbranca-0.3.1         | 25 KB     | ##################################### | 100% \nopenssl-1.1.1d       | 2.1 MB    | ##################################### | 100% \nPreparing transaction: done\nVerifying transaction: done\nExecuting transaction: done\n",
                    "name": "stdout"
                }
            ]
        },
        {
            "metadata": {},
            "cell_type": "code",
            "source": "address = 'India Gate, Delhi'\n\ngeolocator = Nominatim()\nlocation = geolocator.geocode(address)\nlatitude = location.latitude\nlongitude = location.longitude\nprint('The geograpical coordinate of Indian city {}, {}.'.format(latitude, longitude))",
            "execution_count": 2,
            "outputs": [
                {
                    "output_type": "stream",
                    "text": "The geograpical coordinate of Indian city 28.6128806, 77.2295975.\n",
                    "name": "stdout"
                },
                {
                    "output_type": "stream",
                    "text": "/opt/conda/envs/Python36/lib/python3.6/site-packages/ipykernel/__main__.py:3: DeprecationWarning: Using Nominatim with the default \"geopy/1.18.1\" `user_agent` is strongly discouraged, as it violates Nominatim's ToS https://operations.osmfoundation.org/policies/nominatim/ and may possibly cause 403 and 429 HTTP errors. Please specify a custom `user_agent` with `Nominatim(user_agent=\"my-application\")` or by overriding the default `user_agent`: `geopy.geocoders.options.default_user_agent = \"my-application\"`. In geopy 2.0 this will become an exception.\n  app.launch_new_instance()\n",
                    "name": "stderr"
                }
            ]
        },
        {
            "metadata": {},
            "cell_type": "code",
            "source": "CLIENT_ID = 'F5550W10YWYY3GC5JOT3S31A4FX5YOG2OWKRRUYJZCZG5HCL' \nCLIENT_SECRET = 'V3Y0M533TBT115CPQGYZEWWWM5W22STDFOUBCMWICS4EJ3SO' \nVERSION = '20180605'",
            "execution_count": 3,
            "outputs": []
        },
        {
            "metadata": {},
            "cell_type": "code",
            "source": "LIMIT = 100 # limit of number of venues returned by Foursquare API\nradius = 500 # define radius\n\n# create URL\nurl = 'https://api.foursquare.com/v2/venues/explore?&client_id={}&client_secret={}&v={}&ll={},{}&radius={}&limit={}'.format(\n    CLIENT_ID, \n    CLIENT_SECRET, \n    VERSION, \n    latitude, \n    longitude, \n    radius, \n    LIMIT)\nurl # display URL",
            "execution_count": 4,
            "outputs": [
                {
                    "output_type": "execute_result",
                    "execution_count": 4,
                    "data": {
                        "text/plain": "'https://api.foursquare.com/v2/venues/explore?&client_id=F5550W10YWYY3GC5JOT3S31A4FX5YOG2OWKRRUYJZCZG5HCL&client_secret=V3Y0M533TBT115CPQGYZEWWWM5W22STDFOUBCMWICS4EJ3SO&v=20180605&ll=28.6128806,77.2295975&radius=500&limit=100'"
                    },
                    "metadata": {}
                }
            ]
        },
        {
            "metadata": {},
            "cell_type": "code",
            "source": "results = requests.get(url).json()",
            "execution_count": 5,
            "outputs": []
        },
        {
            "metadata": {},
            "cell_type": "code",
            "source": "def get_category_type(row):\n    try:\n        categories_list = row['categories']\n    except:\n        categories_list = row['venue.categories']\n        \n    if len(categories_list) == 0:\n        return None\n    else:\n        return categories_list[0]['name']",
            "execution_count": 6,
            "outputs": []
        },
        {
            "metadata": {},
            "cell_type": "code",
            "source": "venues = results['response']['groups'][0]['items']\n    \nnearby_venues = json_normalize(venues) # flatten JSON\n\nfiltered_columns = ['venue.name', 'venue.categories', 'venue.location.lat', 'venue.location.lng']\nnearby_venues =nearby_venues.loc[:, filtered_columns]\n\n\nnearby_venues['venue.categories'] = nearby_venues.apply(get_category_type, axis=1)\n\n\nnearby_venues.columns = [col.split(\".\")[-1] for col in nearby_venues.columns]\n\nnearby_venues.head(10)",
            "execution_count": 7,
            "outputs": [
                {
                    "output_type": "execute_result",
                    "execution_count": 7,
                    "data": {
                        "text/plain": "                                                name  \\\n0  Amar Jawan Jyoti | \u0905\u092e\u0930 \u091c\u0935\u093e\u0928 \u091c\u094d\u092f\u094b\u0924\u093f (Amar Jawan...   \n1               India Gate | \u0907\u0902\u0921\u093f\u092f\u093e \u0917\u0947\u091f (India Gate)   \n2                                         UPSC Chaat   \n3                              Veg Gulati Restaurant   \n4                                    Children's Park   \n5                              National War Memorial   \n6                                          UPSC Lane   \n7                                       Chor Bizzare   \n8                                      Lovely Chuski   \n\n                      categories        lat        lng  \n0               Sculpture Garden  28.612980  77.228247  \n1            Monument / Landmark  28.612796  77.229207  \n2                    Snack Place  28.609324  77.227879  \n3  Vegetarian / Vegan Restaurant  28.609089  77.230743  \n4                     Playground  28.610664  77.230816  \n5                  Memorial Site  28.613303  77.232579  \n6                     Smoke Shop  28.609346  77.227874  \n7              Indian Restaurant  28.608837  77.229894  \n8                           Park  28.612823  77.224908  ",
                        "text/html": "<div>\n<style scoped>\n    .dataframe tbody tr th:only-of-type {\n        vertical-align: middle;\n    }\n\n    .dataframe tbody tr th {\n        vertical-align: top;\n    }\n\n    .dataframe thead th {\n        text-align: right;\n    }\n</style>\n<table border=\"1\" class=\"dataframe\">\n  <thead>\n    <tr style=\"text-align: right;\">\n      <th></th>\n      <th>name</th>\n      <th>categories</th>\n      <th>lat</th>\n      <th>lng</th>\n    </tr>\n  </thead>\n  <tbody>\n    <tr>\n      <th>0</th>\n      <td>Amar Jawan Jyoti | \u0905\u092e\u0930 \u091c\u0935\u093e\u0928 \u091c\u094d\u092f\u094b\u0924\u093f (Amar Jawan...</td>\n      <td>Sculpture Garden</td>\n      <td>28.612980</td>\n      <td>77.228247</td>\n    </tr>\n    <tr>\n      <th>1</th>\n      <td>India Gate | \u0907\u0902\u0921\u093f\u092f\u093e \u0917\u0947\u091f (India Gate)</td>\n      <td>Monument / Landmark</td>\n      <td>28.612796</td>\n      <td>77.229207</td>\n    </tr>\n    <tr>\n      <th>2</th>\n      <td>UPSC Chaat</td>\n      <td>Snack Place</td>\n      <td>28.609324</td>\n      <td>77.227879</td>\n    </tr>\n    <tr>\n      <th>3</th>\n      <td>Veg Gulati Restaurant</td>\n      <td>Vegetarian / Vegan Restaurant</td>\n      <td>28.609089</td>\n      <td>77.230743</td>\n    </tr>\n    <tr>\n      <th>4</th>\n      <td>Children's Park</td>\n      <td>Playground</td>\n      <td>28.610664</td>\n      <td>77.230816</td>\n    </tr>\n    <tr>\n      <th>5</th>\n      <td>National War Memorial</td>\n      <td>Memorial Site</td>\n      <td>28.613303</td>\n      <td>77.232579</td>\n    </tr>\n    <tr>\n      <th>6</th>\n      <td>UPSC Lane</td>\n      <td>Smoke Shop</td>\n      <td>28.609346</td>\n      <td>77.227874</td>\n    </tr>\n    <tr>\n      <th>7</th>\n      <td>Chor Bizzare</td>\n      <td>Indian Restaurant</td>\n      <td>28.608837</td>\n      <td>77.229894</td>\n    </tr>\n    <tr>\n      <th>8</th>\n      <td>Lovely Chuski</td>\n      <td>Park</td>\n      <td>28.612823</td>\n      <td>77.224908</td>\n    </tr>\n  </tbody>\n</table>\n</div>"
                    },
                    "metadata": {}
                }
            ]
        },
        {
            "metadata": {},
            "cell_type": "code",
            "source": "#Map of Indian residence\nlatitude=28.6128806 \nlongitude=77.2295975\n# create map of Singapore place  using latitude and longitude values\nmap_in = folium.Map(location=[latitude, longitude], zoom_start=18)\n# add markers to map\nfor lat, lng, label in zip(nearby_venues['lat'], nearby_venues['lng'], nearby_venues['name']):\n    label = folium.Popup(label, parse_html=True)\n    folium.RegularPolygonMarker(\n        [lat, lng],\n        number_of_sides=30,\n        radius=7,\n        popup=label,\n        color='blue',\n        fill_color='#0f0f0f',\n        fill_opacity=0.6,\n    ).add_to(map_in)  \n    \nmap_in",
            "execution_count": 8,
            "outputs": [
                {
                    "output_type": "execute_result",
                    "execution_count": 8,
                    "data": {
                        "text/plain": "<folium.folium.Map at 0x7fbbc957dcc0>",
                        "text/html": "<div style=\"width:100%;\"><div style=\"position:relative;width:100%;height:0;padding-bottom:60%;\"><iframe src=\"data:text/html;charset=utf-8;base64,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\" style=\"position:absolute;width:100%;height:100%;left:0;top:0;border:none !important;\" allowfullscreen webkitallowfullscreen mozallowfullscreen></iframe></div></div>"
                    },
                    "metadata": {}
                }
            ]
        },
        {
            "metadata": {},
            "cell_type": "markdown",
            "source": "Below shows us to identify the cluster venues around Manhattan."
        },
        {
            "metadata": {},
            "cell_type": "code",
            "source": "#Map of Manhattan\nlatitude= 40.7308619\nlongitude= -73.9871558 \n\nkclusters=5\nmap_clusters = folium.Map(location=[latitude, longitude], zoom_start=13)\n\n# add markers to the map\nmarkers_colors = []\nfor lat, lon, poi, cluster in zip(manhattan_merged['Latitude'], manhattan_merged['Longitude'], manhattan_merged['Neighborhood'], manhattan_merged['Cluster Labels']):\n    label = folium.Popup(str(poi) + ' Cluster ' + str(cluster), parse_html=True)\n    folium.CircleMarker(\n        [lat, lon],\n        radius=20,\n        popup=label,\n        color=rainbow[cluster-1],\n        fill=True,\n        fill_color=rainbow[cluster-1],\n        fill_opacity=0.7).add_to(map_clusters)\n  # add markers for rental places to map\nfor lat, lng, label in zip(manhattan_data['Latitude'], manhattan_data['Longitude'], manhattan_data['Neighborhood']):\n    label = folium.Popup(label, parse_html=True)\n    folium.CircleMarker(\n        [lat, lng],\n        radius=5,\n        popup=label,\n        color='blue',\n        fill=True,\n        fill_color='#3186cc',\n        fill_opacity=0.7,\n        parse_html=False).add_to(map_clusters)    \n    \n       \nmap_clusters",
            "execution_count": null,
            "outputs": []
        },
        {
            "metadata": {},
            "cell_type": "markdown",
            "source": "Below shows us the geodata of a place of rent in Manhattan"
        },
        {
            "metadata": {},
            "cell_type": "code",
            "source": "mh_rent=pd.read_csv('MH_flats_price.csv')\nfor n in range(len(mh_rent)):   \n    address= mh_rent['Address'][n]\n    address=(mh_rent['Address'][n]+ '  , '+' Manhattan NY ')\n    geolocator = Nominatim()\n    location = geolocator.geocode(address)\n    latitude = location.latitude\n    longitude = location.longitude\n    mh_rent['Lat'][n]=latitude\n    mh_rent['Long'][n]=longitude\n\n# save dataframe to csv file\nmh_rent.to_csv('MH_rent_latlong.csv',index=False)\nmh_rent.shape\n\n# create map of Manhattan using latitude and longitude values from Nominatim\nlatitude= 40.7308619\nlongitude= -73.9871558\n\nmap_manhattan_rent = folium.Map(location=[latitude, longitude], zoom_start=12.5)\n\n# add markers to map\nfor lat, lng, label in zip(mh_rent['Lat'], mh_rent['Long'],'$ ' + mh_rent['Rent_Price'].astype(str)+ ',  '+ mh_rent['Address']):      \n    label = folium.Popup(label, parse_html=True)\n    folium.CircleMarker(\n        [lat, lng],\n        radius=6,\n        popup=label,\n        color='blue',\n        fill=True,\n        fill_color='#3186cc',\n        fill_opacity=0.7,\n        parse_html=False).add_to(map_manhattan_rent) \nmap_manhattan_rent",
            "execution_count": null,
            "outputs": []
        },
        {
            "metadata": {},
            "cell_type": "markdown",
            "source": "The above should be done for subways and amenities nearby"
        },
        {
            "metadata": {},
            "cell_type": "markdown",
            "source": "## Result"
        },
        {
            "metadata": {},
            "cell_type": "markdown",
            "source": "Getting all the info to one map of subways, rentals etc"
        },
        {
            "metadata": {},
            "cell_type": "code",
            "source": "latitude= 40.7308619\nlongitude= -73.9871558\n\nmap_mh_one = folium.Map(location=[latitude, longitude], zoom_start=13.3)\n\n# add markers to map\nfor lat, lng, label in zip(mh_rent['Lat'], mh_rent['Long'],'$ ' + mh_rent['Rent_Price'].astype(str)+ ', '+mh_rent['Address']):      \n    label = folium.Popup(label, parse_html=True)\n    folium.CircleMarker(\n        [lat, lng],\n        radius=6,\n        popup=label,\n        color='blue',\n        fill=True,\n        fill_color='#3186cc',\n        fill_opacity=0.7,\n        parse_html=False).add_to(map_mh_one) \n    \n    # add markers of subway locations to map\nfor lat, lng, label in zip(mhsub1['lat'], mhsub1['long'],  mhsub1['sub_station'].astype(str) ):\n    label = folium.Popup(label, parse_html=True)\n    folium.RegularPolygonMarker(\n        [lat, lng],\n        number_of_sides=6,\n        radius=6,\n        popup=label,\n        color='red',\n        fill_color='red',\n        fill_opacity=2.5,\n    ).add_to(map_mh_one) \n\n\n# add markers to the map\nmarkers_colors = []\nfor lat, lon, poi, cluster in zip(manhattan_merged['Latitude'], manhattan_merged['Longitude'], manhattan_merged['Neighborhood'], manhattan_merged['Cluster Labels']):\n    label = folium.Popup(str(poi) + ' Cluster ' + str(cluster), parse_html=True)\n    folium.CircleMarker(\n        [lat, lon],\n        radius=15,\n        popup=label,\n        color=rainbow[cluster-1],\n        fill=True,\n        fill_color=rainbow[cluster-1],\n        fill_opacity=0.7).add_to(map_mh_one)\n\n    #Then measurement can be added here",
            "execution_count": null,
            "outputs": []
        },
        {
            "metadata": {},
            "cell_type": "markdown",
            "source": "After the code is run, we can find the places affordable with the first apartment in Manhattan Park, 10-40 River Rd, New York and the second one in \nThe Grand, 1770 Grand Concourse, Bronx, NY.\nUsing kmeans we can get the venue of the cluster."
        },
        {
            "metadata": {},
            "cell_type": "markdown",
            "source": "## Discussion"
        },
        {
            "metadata": {},
            "cell_type": "markdown",
            "source": "From above, the Grand apartment has $1849 which is very much inside the budget along with the John's Boxing Gym.\nManhattan Park apartment has pricing upto $3200 with the Hospital near to it."
        },
        {
            "metadata": {},
            "cell_type": "markdown",
            "source": "## Conclusion"
        },
        {
            "metadata": {},
            "cell_type": "markdown",
            "source": "Conisedring the above, we would like to prefer The Grand hotel because of the ease of travel from workplace, low cost and a gym nearby to hop on\nanytime. Hence, as a data scientist we would be able to conclude the number of options to choose from cluster of venues and make a suitable\ndecision with great ease."
        }
    ],
    "metadata": {
        "kernelspec": {
            "name": "python3",
            "display_name": "Python 3.6",
            "language": "python"
        },
        "language_info": {
            "name": "python",
            "version": "3.6.8",
            "mimetype": "text/x-python",
            "codemirror_mode": {
                "name": "ipython",
                "version": 3
            },
            "pygments_lexer": "ipython3",
            "nbconvert_exporter": "python",
            "file_extension": ".py"
        }
    },
    "nbformat": 4,
    "nbformat_minor": 1
}