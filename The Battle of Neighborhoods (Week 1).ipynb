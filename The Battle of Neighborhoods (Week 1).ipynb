{
    "cells": [
        {
            "metadata": {
                "collapsed": true
            },
            "cell_type": "markdown",
            "source": "# The Battle of Neighborhoods (Week 1)"
        },
        {
            "metadata": {},
            "cell_type": "markdown",
            "source": "# 1. Introduction to the Problem"
        },
        {
            "metadata": {},
            "cell_type": "markdown",
            "source": "## Scenario: "
        },
        {
            "metadata": {},
            "cell_type": "markdown",
            "source": "Staying here, living here, dreaming it over here, makes one wonder how close is your next city to your home. Any city in India, there are many things that can be availed like the back of your hand. So, when comparing a city like New York or Toronto one would be very mindful on which city feels like home by not only on the availability of the home made products but also the cost of living matters the most. I would like to explore the option in New York Manhattan as it would be close to place of work and have many eateries too. So, in search of an apartment, the requirements would be a single bedroom with rent not more than 5000 dollars per month. And should have Indian restaurants and grocery shopping with amneties such as gym and community centres and location should be near subways."
        },
        {
            "metadata": {},
            "cell_type": "markdown",
            "source": "## Business Problem: "
        },
        {
            "metadata": {},
            "cell_type": "markdown",
            "source": "Challenges are meeting the price, location and amenties in and around the apartment in New York Manhattan(as mentioned above)."
        },
        {
            "metadata": {},
            "cell_type": "markdown",
            "source": "## Related Audience: "
        },
        {
            "metadata": {},
            "cell_type": "markdown",
            "source": "People all around the world who want to move cities, will have similar preferences of their own ethnicity and culture. Here, we could target the Asian\naudience even though it's applicable similarly to all who want to join a new company or settle in the city for a long time or look out on a job of thier preference or even business."
        },
        {
            "metadata": {},
            "cell_type": "markdown",
            "source": "# 2. Data related to the Problem"
        },
        {
            "metadata": {},
            "cell_type": "markdown",
            "source": "# Data Description:"
        },
        {
            "metadata": {},
            "cell_type": "markdown",
            "source": "1. Details of the apartment including price, address, single bedroom & venues\n2. Subway stations details & venues\n3. Neighbourhood details including the amenties & venues\\\n Use Wikipedia to gather the details"
        },
        {
            "metadata": {},
            "cell_type": "markdown",
            "source": "# Data usage to solve the problem:"
        },
        {
            "metadata": {},
            "cell_type": "markdown",
            "source": "Using Foursquare and geopy data to pinpoint the venues for the above data requirement.\nThis includes the subway station, apartment price, neighborhood etc.\nConverion of location information to latitude and longitude.\n\nUsing this, we can solve the questions pertaining to rental pricing options, distance from subway to apartment to place of work.\nAlso, the neighborhood and other data related to amneties and community centres."
        },
        {
            "metadata": {},
            "cell_type": "code",
            "source": "import numpy as np \nimport time\nimport pandas as pd \npd.set_option('display.max_columns', None)\npd.set_option('display.max_rows', None)\n\nimport json \nimport requests \nfrom pandas.io.json import json_normalize \n\nfrom geopy.geocoders import Nominatim \n!conda install -c conda-forge folium=0.5.0 --yes\nimport folium ",
            "execution_count": 3,
            "outputs": [
                {
                    "output_type": "stream",
                    "text": "Solving environment: done\n\n# All requested packages already installed.\n\n",
                    "name": "stdout"
                }
            ]
        },
        {
            "metadata": {},
            "cell_type": "code",
            "source": "address = 'India Gate, Delhi'\n\ngeolocator = Nominatim()\nlocation = geolocator.geocode(address)\nlatitude = location.latitude\nlongitude = location.longitude\nprint('The geograpical coordinate of Indian city {}, {}.'.format(latitude, longitude))",
            "execution_count": 5,
            "outputs": [
                {
                    "output_type": "stream",
                    "text": "The geograpical coordinate of Indian city 28.6128806, 77.2295975.\n",
                    "name": "stdout"
                },
                {
                    "output_type": "stream",
                    "text": "/opt/conda/envs/Python36/lib/python3.6/site-packages/ipykernel/__main__.py:3: DeprecationWarning: Using Nominatim with the default \"geopy/1.18.1\" `user_agent` is strongly discouraged, as it violates Nominatim's ToS https://operations.osmfoundation.org/policies/nominatim/ and may possibly cause 403 and 429 HTTP errors. Please specify a custom `user_agent` with `Nominatim(user_agent=\"my-application\")` or by overriding the default `user_agent`: `geopy.geocoders.options.default_user_agent = \"my-application\"`. In geopy 2.0 this will become an exception.\n  app.launch_new_instance()\n",
                    "name": "stderr"
                }
            ]
        },
        {
            "metadata": {},
            "cell_type": "code",
            "source": "CLIENT_ID = 'F5550W10YWYY3GC5JOT3S31A4FX5YOG2OWKRRUYJZCZG5HCL' \nCLIENT_SECRET = 'V3Y0M533TBT115CPQGYZEWWWM5W22STDFOUBCMWICS4EJ3SO' \nVERSION = '20180605'",
            "execution_count": 6,
            "outputs": []
        },
        {
            "metadata": {},
            "cell_type": "code",
            "source": "LIMIT = 100 # limit of number of venues returned by Foursquare API\nradius = 500 # define radius\n\n# create URL\nurl = 'https://api.foursquare.com/v2/venues/explore?&client_id={}&client_secret={}&v={}&ll={},{}&radius={}&limit={}'.format(\n    CLIENT_ID, \n    CLIENT_SECRET, \n    VERSION, \n    latitude, \n    longitude, \n    radius, \n    LIMIT)\nurl # display URL",
            "execution_count": 8,
            "outputs": [
                {
                    "output_type": "execute_result",
                    "execution_count": 8,
                    "data": {
                        "text/plain": "'https://api.foursquare.com/v2/venues/explore?&client_id=F5550W10YWYY3GC5JOT3S31A4FX5YOG2OWKRRUYJZCZG5HCL&client_secret=V3Y0M533TBT115CPQGYZEWWWM5W22STDFOUBCMWICS4EJ3SO&v=20180605&ll=28.6128806,77.2295975&radius=500&limit=100'"
                    },
                    "metadata": {}
                }
            ]
        },
        {
            "metadata": {},
            "cell_type": "code",
            "source": "results = requests.get(url).json()",
            "execution_count": 9,
            "outputs": []
        },
        {
            "metadata": {},
            "cell_type": "code",
            "source": "def get_category_type(row):\n    try:\n        categories_list = row['categories']\n    except:\n        categories_list = row['venue.categories']\n        \n    if len(categories_list) == 0:\n        return None\n    else:\n        return categories_list[0]['name']",
            "execution_count": 10,
            "outputs": []
        },
        {
            "metadata": {},
            "cell_type": "code",
            "source": "venues = results['response']['groups'][0]['items']\n    \nnearby_venues = json_normalize(venues) # flatten JSON\n\nfiltered_columns = ['venue.name', 'venue.categories', 'venue.location.lat', 'venue.location.lng']\nnearby_venues =nearby_venues.loc[:, filtered_columns]\n\n\nnearby_venues['venue.categories'] = nearby_venues.apply(get_category_type, axis=1)\n\n\nnearby_venues.columns = [col.split(\".\")[-1] for col in nearby_venues.columns]\n\nnearby_venues.head(10)",
            "execution_count": 12,
            "outputs": [
                {
                    "output_type": "execute_result",
                    "execution_count": 12,
                    "data": {
                        "text/plain": "                                                name  \\\n0  Amar Jawan Jyoti | \u0905\u092e\u0930 \u091c\u0935\u093e\u0928 \u091c\u094d\u092f\u094b\u0924\u093f (Amar Jawan...   \n1               India Gate | \u0907\u0902\u0921\u093f\u092f\u093e \u0917\u0947\u091f (India Gate)   \n2                                         UPSC Chaat   \n3                              Veg Gulati Restaurant   \n4                                    Children's Park   \n5                              National War Memorial   \n6                                          UPSC Lane   \n7                                       Chor Bizzare   \n8                                      Lovely Chuski   \n\n                      categories        lat        lng  \n0               Sculpture Garden  28.612980  77.228247  \n1            Monument / Landmark  28.612796  77.229207  \n2                    Snack Place  28.609324  77.227879  \n3  Vegetarian / Vegan Restaurant  28.609089  77.230743  \n4                     Playground  28.610664  77.230816  \n5                  Memorial Site  28.613303  77.232579  \n6                     Smoke Shop  28.609346  77.227874  \n7              Indian Restaurant  28.608837  77.229894  \n8                           Park  28.612823  77.224908  ",
                        "text/html": "<div>\n<style scoped>\n    .dataframe tbody tr th:only-of-type {\n        vertical-align: middle;\n    }\n\n    .dataframe tbody tr th {\n        vertical-align: top;\n    }\n\n    .dataframe thead th {\n        text-align: right;\n    }\n</style>\n<table border=\"1\" class=\"dataframe\">\n  <thead>\n    <tr style=\"text-align: right;\">\n      <th></th>\n      <th>name</th>\n      <th>categories</th>\n      <th>lat</th>\n      <th>lng</th>\n    </tr>\n  </thead>\n  <tbody>\n    <tr>\n      <th>0</th>\n      <td>Amar Jawan Jyoti | \u0905\u092e\u0930 \u091c\u0935\u093e\u0928 \u091c\u094d\u092f\u094b\u0924\u093f (Amar Jawan...</td>\n      <td>Sculpture Garden</td>\n      <td>28.612980</td>\n      <td>77.228247</td>\n    </tr>\n    <tr>\n      <th>1</th>\n      <td>India Gate | \u0907\u0902\u0921\u093f\u092f\u093e \u0917\u0947\u091f (India Gate)</td>\n      <td>Monument / Landmark</td>\n      <td>28.612796</td>\n      <td>77.229207</td>\n    </tr>\n    <tr>\n      <th>2</th>\n      <td>UPSC Chaat</td>\n      <td>Snack Place</td>\n      <td>28.609324</td>\n      <td>77.227879</td>\n    </tr>\n    <tr>\n      <th>3</th>\n      <td>Veg Gulati Restaurant</td>\n      <td>Vegetarian / Vegan Restaurant</td>\n      <td>28.609089</td>\n      <td>77.230743</td>\n    </tr>\n    <tr>\n      <th>4</th>\n      <td>Children's Park</td>\n      <td>Playground</td>\n      <td>28.610664</td>\n      <td>77.230816</td>\n    </tr>\n    <tr>\n      <th>5</th>\n      <td>National War Memorial</td>\n      <td>Memorial Site</td>\n      <td>28.613303</td>\n      <td>77.232579</td>\n    </tr>\n    <tr>\n      <th>6</th>\n      <td>UPSC Lane</td>\n      <td>Smoke Shop</td>\n      <td>28.609346</td>\n      <td>77.227874</td>\n    </tr>\n    <tr>\n      <th>7</th>\n      <td>Chor Bizzare</td>\n      <td>Indian Restaurant</td>\n      <td>28.608837</td>\n      <td>77.229894</td>\n    </tr>\n    <tr>\n      <th>8</th>\n      <td>Lovely Chuski</td>\n      <td>Park</td>\n      <td>28.612823</td>\n      <td>77.224908</td>\n    </tr>\n  </tbody>\n</table>\n</div>"
                    },
                    "metadata": {}
                }
            ]
        },
        {
            "metadata": {},
            "cell_type": "code",
            "source": "",
            "execution_count": null,
            "outputs": []
        }
    ],
    "metadata": {
        "kernelspec": {
            "name": "python3",
            "display_name": "Python 3.6",
            "language": "python"
        },
        "language_info": {
            "name": "python",
            "version": "3.6.8",
            "mimetype": "text/x-python",
            "codemirror_mode": {
                "name": "ipython",
                "version": 3
            },
            "pygments_lexer": "ipython3",
            "nbconvert_exporter": "python",
            "file_extension": ".py"
        }
    },
    "nbformat": 4,
    "nbformat_minor": 1
}